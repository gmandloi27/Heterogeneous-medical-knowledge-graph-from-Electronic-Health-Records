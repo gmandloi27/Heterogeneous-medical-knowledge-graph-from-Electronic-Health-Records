{
 "cells": [
  {
   "cell_type": "markdown",
   "metadata": {
    "id": "JdJdtaun2bnA"
   },
   "source": [
    "# **Heterogeneous Medical Knowledge Graph & Real-Time Object Detection**\n",
    "This notebook covers:\n",
    "1. **Medical Knowledge Graph Construction using Neo4j**\n",
    "2. **Named Entity Recognition (NER) & Entity Normalization**\n",
    "3. **Drug Interaction Prediction using Graph Neural Networks (GNNs)**\n",
    "4. **Real-Time Compensation for Atmospheric Turbulence**\n",
    "5. **Moving Object Detection using Computer Vision**\n"
   ]
  },
  {
   "cell_type": "code",
   "execution_count": null,
   "metadata": {
    "colab": {
     "base_uri": "https://localhost:8080/"
    },
    "id": "install-libraries",
    "outputId": "9ba0e435-f7b5-48e7-c511-b3cd4bacffe7"
   },
   "outputs": [],
   "source": [
    "# Install required libraries\n",
    "!pip install neo4j pandas scikit-learn spacy torch dgl opencv-python numpy matplotlib\n",
    "!python -m spacy download en_core_web_sm"
   ]
  },
  {
   "cell_type": "markdown",
   "metadata": {
    "id": "suaEYnzp2bnP"
   },
   "source": [
    "## **1️⃣ Medical Knowledge Graph Construction (Neo4j)**"
   ]
  },
  {
   "cell_type": "code",
   "execution_count": null,
   "metadata": {
    "id": "connect-neo4j"
   },
   "outputs": [],
   "source": [
    "from neo4j import GraphDatabase\n",
    "\n",
    "# Connect to Neo4j\n",
    "URI = \"bolt://localhost:7687\"  # Change if running remotely\n",
    "AUTH = (\"neo4j\", \"password\")  # Update credentials\n",
    "\n",
    "class MedicalGraph:\n",
    "    def __init__(self, uri, auth):\n",
    "        self.driver = GraphDatabase.driver(uri, auth=auth)\n",
    "\n",
    "    def close(self):\n",
    "        self.driver.close()\n",
    "\n",
    "    def create_nodes(self, tx, node_type, properties):\n",
    "        query = f\"CREATE (n:{node_type} {{ {', '.join([f'{key}: ${key}' for key in properties.keys()])} }})\"\n",
    "        tx.run(query, **properties)\n",
    "\n",
    "    def create_relationship(self, tx, node1, rel, node2):\n",
    "        query = (\n",
    "            f\"MATCH (a:{node1['type']}), (b:{node2['type']}) \"\n",
    "            f\"WHERE a.id = $id1 AND b.id = $id2 \"\n",
    "            f\"CREATE (a)-[:{rel}]->(b)\"\n",
    "        )\n",
    "        tx.run(query, id1=node1['id'], id2=node2['id'])\n"
   ]
  },
  {
   "cell_type": "markdown",
   "metadata": {
    "id": "uGgr_VFm2bnR"
   },
   "source": [
    "## **2️⃣ Named Entity Recognition (NER) with SpaCy**"
   ]
  },
  {
   "cell_type": "code",
   "execution_count": null,
   "metadata": {
    "colab": {
     "base_uri": "https://localhost:8080/"
    },
    "id": "named-entity-recognition",
    "outputId": "1725d57b-4e47-455f-cee0-66b277954d47"
   },
   "outputs": [],
   "source": [
    "import spacy\n",
    "nlp = spacy.load(\"en_core_web_sm\")\n",
    "\n",
    "def extract_entities(text):\n",
    "    doc = nlp(text)\n",
    "    return [(ent.text, ent.label_) for ent in doc.ents]\n",
    "\n",
    "sample_text = \"John was prescribed Metformin for his Diabetes but experienced nausea.\"\n",
    "print(extract_entities(sample_text))\n"
   ]
  },
  {
   "cell_type": "markdown",
   "metadata": {
    "id": "36-kYhZs2bnU"
   },
   "source": [
    "## **3️⃣ Graph Neural Network (GNN) for Drug Interaction Prediction**"
   ]
  },
  {
   "cell_type": "code",
   "execution_count": null,
   "metadata": {
    "colab": {
     "base_uri": "https://localhost:8080/",
     "height": 1000
    },
    "id": "lYBfcpT16W5I",
    "outputId": "3a0344cf-7e53-4fa0-eddf-bb8af69e3f3a"
   },
   "outputs": [],
   "source": [
    "!pip uninstall torch torchdata dgl -y\n",
    "!pip install torch torchvision torchaudio\n",
    "!pip install dgl"
   ]
  },
  {
   "cell_type": "code",
   "execution_count": null,
   "metadata": {
    "colab": {
     "base_uri": "https://localhost:8080/"
    },
    "id": "N_ZDSTAaxWMZ",
    "outputId": "ac98aa5e-4c57-4ea1-9f90-5268a943fbf5"
   },
   "outputs": [],
   "source": [
    "!pip install dgl torchdata"
   ]
  },
  {
   "cell_type": "code",
   "execution_count": null,
   "metadata": {
    "colab": {
     "base_uri": "https://localhost:8080/"
    },
    "id": "wvWhL2y6xjxv",
    "outputId": "3e8ef2a3-ed5c-4b1e-8450-dfdca8c64cf2"
   },
   "outputs": [],
   "source": [
    "!pip uninstall torchdata"
   ]
  },
  {
   "cell_type": "code",
   "execution_count": null,
   "metadata": {
    "colab": {
     "base_uri": "https://localhost:8080/"
    },
    "id": "U-UMQn6IyVwx",
    "outputId": "ec8ccf17-d949-4fdb-be62-05ad9adbed27"
   },
   "outputs": [],
   "source": [
    "!pip install dgl torch torchvision torchaudio tensorflow networkx numpy scipy\n"
   ]
  },
  {
   "cell_type": "code",
   "execution_count": null,
   "metadata": {
    "colab": {
     "base_uri": "https://localhost:8080/"
    },
    "id": "wlzyUYBD1l7J",
    "outputId": "a1d30acf-f0ac-4750-f4b2-426c436277bb"
   },
   "outputs": [],
   "source": [
    "!pip install torch-geometric\n",
    "!pip install torch-scatter torch-sparse torch-cluster torch-spline-conv -f https://data.pyg.org/whl/torch-2.0.0+cpu.html"
   ]
  },
  {
   "cell_type": "code",
   "execution_count": null,
   "metadata": {
    "colab": {
     "base_uri": "https://localhost:8080/",
     "height": 677
    },
    "id": "GfCW6WZ32qvi",
    "outputId": "d777c2e2-28e2-499b-9105-d751be634e4e"
   },
   "outputs": [],
   "source": [
    "import torch\n",
    "import torch.nn.functional as F\n",
    "import networkx as nx\n",
    "import matplotlib.pyplot as plt\n",
    "from torch_geometric.data import HeteroData\n",
    "from torch_geometric.nn import GCNConv\n",
    "from torch_geometric.utils import to_networkx\n",
    "\n",
    "# Create a Heterogeneous Graph with Drugs & Diseases\n",
    "data = HeteroData()\n",
    "\n",
    "# Add Drug Nodes\n",
    "data['Drug'].x = torch.randn(3, 10)  # 3 Drugs with 10 features each\n",
    "\n",
    "# Add Disease Nodes\n",
    "data['Disease'].x = torch.randn(2, 10)  # 2 Diseases with 10 features each\n",
    "\n",
    "# Define Relationships (Edges)\n",
    "data['Drug', 'interacts_with', 'Drug'].edge_index = torch.tensor([[0, 1], [1, 2]])  # Drug-Drug interactions\n",
    "data['Drug', 'treats', 'Disease'].edge_index = torch.tensor([[0, 1], [2, 0]])  # Drug-Disease treatment\n",
    "\n",
    "# Define GNN Model\n",
    "class DrugGNN(torch.nn.Module):\n",
    "    def __init__(self, in_feats, hidden_feats, out_feats):\n",
    "        super(DrugGNN, self).__init__()\n",
    "        self.conv1 = GCNConv(in_feats, hidden_feats)\n",
    "        self.conv2 = GCNConv(hidden_feats, out_feats)\n",
    "\n",
    "    def forward(self, x, edge_index):\n",
    "        h = F.relu(self.conv1(x, edge_index))\n",
    "        h = self.conv2(h, edge_index)\n",
    "        return h\n",
    "\n",
    "# Initialize & Test Model\n",
    "model = DrugGNN(10, 16, 2)\n",
    "output = model(data['Drug'].x, data['Drug', 'interacts_with', 'Drug'].edge_index)\n",
    "print(\"Output shape:\", output.shape)\n",
    "\n",
    "# Convert PyG Heterogeneous Graph to NetworkX for Visualization\n",
    "G = to_networkx(data.to_homogeneous(), to_undirected=True)\n",
    "\n",
    "# Assign Colors Based on Node Type\n",
    "node_colors = []\n",
    "for node in G.nodes():\n",
    "    if node < 3:  # First 3 nodes are Drugs\n",
    "        node_colors.append(\"lightblue\")\n",
    "    else:  # Last 2 nodes are Diseases\n",
    "        node_colors.append(\"lightcoral\")\n",
    "\n",
    "# Plot the Graph\n",
    "plt.figure(figsize=(6, 6))\n",
    "nx.draw(G, with_labels=True, node_color=node_colors, edge_color=\"gray\", node_size=600, font_size=12)\n",
    "plt.title(\"Drug-Disease Interaction Graph\")\n",
    "plt.show()"
   ]
  },
  {
   "cell_type": "markdown",
   "metadata": {
    "id": "iws8jKgx2bnW"
   },
   "source": [
    "## **4️⃣ Real-Time Compensation for Atmospheric Turbulence**"
   ]
  },
  {
   "cell_type": "code",
   "execution_count": null,
   "metadata": {
    "id": "stabilize-video"
   },
   "outputs": [],
   "source": [
    "import cv2\n",
    "import numpy as np\n",
    "\n",
    "def stabilize_frames(frames):\n",
    "    stabilized = []\n",
    "    for i in range(1, len(frames)):\n",
    "        flow = cv2.calcOpticalFlowFarneback(cv2.cvtColor(frames[i-1], cv2.COLOR_BGR2GRAY),\n",
    "                                            cv2.cvtColor(frames[i], cv2.COLOR_BGR2GRAY),\n",
    "                                            None, 0.5, 3, 15, 3, 5, 1.2, 0)\n",
    "        h, w = flow.shape[:2]\n",
    "        flow_map = np.column_stack((np.repeat(np.arange(h), w), np.tile(np.arange(w), h))) + flow.reshape(-1, 2)\n",
    "        stabilized.append(cv2.remap(frames[i], flow_map[:, 0], flow_map[:, 1], interpolation=cv2.INTER_LINEAR))\n",
    "    return stabilized"
   ]
  },
  {
   "cell_type": "markdown",
   "metadata": {
    "id": "_XPZW3rR2bnY"
   },
   "source": [
    "## **5️⃣ Moving Object Detection**"
   ]
  },
  {
   "cell_type": "code",
   "execution_count": null,
   "metadata": {
    "colab": {
     "base_uri": "https://localhost:8080/"
    },
    "id": "0TTceFrF4tEs",
    "outputId": "f20457d8-4397-4a46-dcd7-d4039a0e3d0c"
   },
   "outputs": [],
   "source": [
    "!pip install opencv-python"
   ]
  },
  {
   "cell_type": "code",
   "execution_count": null,
   "metadata": {
    "id": "object-detection"
   },
   "outputs": [],
   "source": [
    "fgbg = cv2.createBackgroundSubtractorMOG2()\n",
    "\n",
    "cap = cv2.VideoCapture(\"video.mp4\")\n",
    "while cap.isOpened():\n",
    "    ret, frame = cap.read()\n",
    "    if not ret:\n",
    "        break\n",
    "    fgmask = fgbg.apply(frame)\n",
    "    cv2.imshow(\"Moving Objects\", fgmask)\n",
    "    if cv2.waitKey(30) & 0xFF == 27:\n",
    "        break\n",
    "cap.release()\n",
    "cv2.destroyAllWindows()"
   ]
  },
  {
   "cell_type": "code",
   "execution_count": null,
   "metadata": {
    "id": "884cNjWo41si"
   },
   "outputs": [],
   "source": [
    "import cv2\n",
    "\n",
    "fgbg = cv2.createBackgroundSubtractorMOG2()\n",
    "cap = cv2.VideoCapture(\"video.mp4\")\n",
    "\n",
    "frame_count = 0  # Counter to save a frame\n",
    "\n",
    "while cap.isOpened():\n",
    "    ret, frame = cap.read()\n",
    "    if not ret:\n",
    "        break\n",
    "\n",
    "    fgmask = fgbg.apply(frame)\n",
    "\n",
    "    # Save the 50th frame for visualization\n",
    "    if frame_count == 50:\n",
    "        cv2.imwrite(\"moving_objects.png\", fgmask)\n",
    "        break\n",
    "\n",
    "    frame_count += 1\n",
    "\n",
    "cap.release()\n",
    "cv2.destroyAllWindows()"
   ]
  }
 ],
 "metadata": {
  "colab": {
   "provenance": []
  },
  "kernelspec": {
   "display_name": "Python 3 (ipykernel)",
   "language": "python",
   "name": "python3"
  },
  "language_info": {
   "codemirror_mode": {
    "name": "ipython",
    "version": 3
   },
   "file_extension": ".py",
   "mimetype": "text/x-python",
   "name": "python",
   "nbconvert_exporter": "python",
   "pygments_lexer": "ipython3",
   "version": "3.11.4"
  }
 },
 "nbformat": 4,
 "nbformat_minor": 1
}
